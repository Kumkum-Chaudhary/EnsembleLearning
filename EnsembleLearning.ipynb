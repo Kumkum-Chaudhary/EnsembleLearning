{
  "nbformat": 4,
  "nbformat_minor": 0,
  "metadata": {
    "colab": {
      "provenance": []
    },
    "kernelspec": {
      "name": "python3",
      "display_name": "Python 3"
    },
    "language_info": {
      "name": "python"
    }
  },
  "cells": [
    {
      "cell_type": "markdown",
      "source": [
        "**Theoretical**"
      ],
      "metadata": {
        "id": "vmw_IZyKICcJ"
      }
    },
    {
      "cell_type": "markdown",
      "source": [
        "1. Can we use Bagging for regression problems?\n",
        "\n",
        "Yes. Bagging works for regression by training multiple models on different bootstrapped samples. The final prediction is the average of all models’ outputs, which helps reduce variance and improves stability compared to a single model."
      ],
      "metadata": {
        "id": "C7qR9gO9ICfC"
      }
    },
    {
      "cell_type": "markdown",
      "source": [
        "2. What is the difference between multiple model training and single model training?\n",
        "\n",
        "Single model training builds one model on the full dataset. Multiple model training (ensembles) builds several models on different data subsets or with variations, then combines their predictions. Ensembles often perform better due to reduced error and increased robustness."
      ],
      "metadata": {
        "id": "swGK5alZIChQ"
      }
    },
    {
      "cell_type": "markdown",
      "source": [
        "3. Explain the concept of feature randomness in Random Forest\n",
        "\n",
        "Random Forest chooses a random subset of features to consider at each split in every tree. This randomness ensures trees are less correlated and more diverse, which improves the overall model’s accuracy and reduces overfitting."
      ],
      "metadata": {
        "id": "uOldI0IBICjw"
      }
    },
    {
      "cell_type": "markdown",
      "source": [
        "4. What is OOB (Out-of-Bag) Score?\n",
        "\n",
        "OOB score estimates model performance using the samples not included in each bootstrap training set. These “left-out” samples act like a validation set, providing an unbiased error estimate without needing a separate test set."
      ],
      "metadata": {
        "id": "emjpfMTlICmP"
      }
    },
    {
      "cell_type": "markdown",
      "source": [
        "5. How can you measure the importance of features in a Random Forest model?\n",
        "\n",
        "Feature importance can be measured by how much each feature decreases impurity across all trees (mean decrease impurity) or by shuffling feature values and seeing how much model accuracy drops (permutation importance)."
      ],
      "metadata": {
        "id": "xeLaeW_1ICoq"
      }
    },
    {
      "cell_type": "markdown",
      "source": [
        "6. Explain the working principle of a Bagging Classifier\n",
        "\n",
        "A Bagging Classifier trains multiple base classifiers on different random subsets of data. Each classifier votes for a class, and the majority vote becomes the final prediction. This reduces variance and improves stability."
      ],
      "metadata": {
        "id": "mQJopCx4ICq9"
      }
    },
    {
      "cell_type": "markdown",
      "source": [
        "7. How do you evaluate a Bagging Classifier’s performance?\n",
        "\n",
        "Evaluate using metrics like accuracy, precision, recall, F1-score on a test set or validation set. You can also use the Out-of-Bag (OOB) score for an internal estimate of performance without separate validation data."
      ],
      "metadata": {
        "id": "ynPsOxtpICta"
      }
    },
    {
      "cell_type": "markdown",
      "source": [
        "8. How does a Bagging Regressor work?\n",
        "\n",
        "It trains several regression models on bootstrapped samples. Each model predicts a value, and the final prediction is the average of these outputs, which reduces variance and improves prediction stability."
      ],
      "metadata": {
        "id": "XE0roErIICv5"
      }
    },
    {
      "cell_type": "markdown",
      "source": [
        "9. What is the main advantage of ensemble techniques?\n",
        "\n",
        "Ensembles combine multiple models to improve accuracy and robustness, reducing overfitting by averaging or voting, leading to better performance on unseen data."
      ],
      "metadata": {
        "id": "9cw5D7fsICyp"
      }
    },
    {
      "cell_type": "markdown",
      "source": [
        "10. What is the main challenge of ensemble methods?\n",
        "\n",
        "They require more computational resources and can be harder to interpret than single models. Also, if models are not diverse, ensembles might not improve much."
      ],
      "metadata": {
        "id": "Ouj95NRMIC17"
      }
    },
    {
      "cell_type": "markdown",
      "source": [
        "11. Explain the key idea behind ensemble techniques\n",
        "\n",
        "The key idea is that combining multiple diverse models reduces errors because mistakes by some models are corrected by others, resulting in a stronger overall model."
      ],
      "metadata": {
        "id": "2SdRfw5OKv-D"
      }
    },
    {
      "cell_type": "markdown",
      "source": [
        "12. What is a Random Forest Classifier?\n",
        "\n",
        "A Random Forest is an ensemble of decision trees built on bootstrapped data samples, where each split considers a random subset of features. Final predictions are made by majority voting among trees."
      ],
      "metadata": {
        "id": "12lDbIy3KwAm"
      }
    },
    {
      "cell_type": "markdown",
      "source": [
        "13. What are the main types of ensemble techniques?\n",
        "\n",
        "Bagging: Parallel training on bootstrapped samples (e.g., Random Forest)\n",
        "\n",
        "Boosting: Sequential training focusing on correcting previous errors (e.g., AdaBoost)\n",
        "\n",
        "Stacking: Combining predictions of multiple models via a meta-model."
      ],
      "metadata": {
        "id": "mmvcMgHCKwDP"
      }
    },
    {
      "cell_type": "markdown",
      "source": [
        "14. What is ensemble learning in machine learning?\n",
        "\n",
        "Ensemble learning builds multiple models and combines their outputs to improve prediction accuracy and robustness compared to individual models."
      ],
      "metadata": {
        "id": "pD3NYXANKwFj"
      }
    },
    {
      "cell_type": "markdown",
      "source": [
        "15. When should we avoid using ensemble methods?\n",
        "\n",
        "Avoid ensembles when interpretability is critical, when data is very small, when computational resources are limited, or when low-latency predictions are needed."
      ],
      "metadata": {
        "id": "-ILMx6NJKwH8"
      }
    },
    {
      "cell_type": "markdown",
      "source": [
        "16. How does Bagging help in reducing overfitting?\n",
        "\n",
        "By training models on different data samples and averaging their predictions, Bagging reduces variance and prevents overfitting to noise in the training data."
      ],
      "metadata": {
        "id": "RhLsTCHDKwKd"
      }
    },
    {
      "cell_type": "markdown",
      "source": [
        "17. Why is Random Forest better than a single Decision Tree?\n",
        "\n",
        "Because it builds many trees with randomness in data and features, reducing overfitting and variance, leading to more accurate and stable predictions than a single tree."
      ],
      "metadata": {
        "id": "Mj4l6jLEKwMr"
      }
    },
    {
      "cell_type": "markdown",
      "source": [
        "18. What is the role of bootstrap sampling in Bagging?\n",
        "\n",
        "Bootstrap sampling creates multiple diverse training datasets by sampling with replacement, enabling each model in the ensemble to learn different patterns and reduce correlation."
      ],
      "metadata": {
        "id": "mk5NUuSfKwPQ"
      }
    },
    {
      "cell_type": "markdown",
      "source": [
        "19. What are some real-world applications of ensemble techniques?\n",
        "\n",
        "Used in fraud detection, medical diagnosis, credit scoring, stock market prediction, and image or speech recognition for improved accuracy and robustness."
      ],
      "metadata": {
        "id": "JJ9JLOfpKwRv"
      }
    },
    {
      "cell_type": "markdown",
      "source": [
        "20. What is the difference between Bagging and Boosting?\n",
        "\n",
        "Bagging trains models independently in parallel and aggregates results to reduce variance. Boosting trains models sequentially, focusing on correcting previous errors to reduce bias and variance."
      ],
      "metadata": {
        "id": "6S4A4T4HKwUb"
      }
    },
    {
      "cell_type": "markdown",
      "source": [
        "**Practical**"
      ],
      "metadata": {
        "id": "POts2cOLKwXz"
      }
    },
    {
      "cell_type": "code",
      "source": [
        "# 21. Train a Bagging Classifier using Decision Trees on a sample dataset and print model accuracy\n",
        "from sklearn.datasets import load_iris\n",
        "from sklearn.ensemble import BaggingClassifier\n",
        "from sklearn.tree import DecisionTreeClassifier\n",
        "from sklearn.model_selection import train_test_split\n",
        "from sklearn.metrics import accuracy_score\n",
        "\n",
        "X, y = load_iris(return_X_y=True)\n",
        "\n",
        "X_train, X_test, y_train, y_test = train_test_split(X, y, test_size=0.3, random_state=42)\n",
        "\n",
        "bag_clf = BaggingClassifier(estimator=DecisionTreeClassifier(), n_estimators=10, random_state=42)\n",
        "bag_clf.fit(X_train, y_train)\n",
        "\n",
        "y_pred = bag_clf.predict(X_test)\n",
        "print(\"Bagging Classifier Accuracy:\", accuracy_score(y_test, y_pred))"
      ],
      "metadata": {
        "colab": {
          "base_uri": "https://localhost:8080/"
        },
        "id": "3gG1S0VnKsz2",
        "outputId": "16fb32cb-8d2c-4ae7-b0ec-18ca9475e371"
      },
      "execution_count": 2,
      "outputs": [
        {
          "output_type": "stream",
          "name": "stdout",
          "text": [
            "Bagging Classifier Accuracy: 1.0\n"
          ]
        }
      ]
    },
    {
      "cell_type": "code",
      "source": [
        "# 22. Train a Bagging Regressor using Decision Trees and evaluate using Mean Squared Error (MSE)\n",
        "from sklearn.datasets import load_diabetes\n",
        "from sklearn.ensemble import BaggingRegressor\n",
        "from sklearn.tree import DecisionTreeRegressor\n",
        "from sklearn.model_selection import train_test_split\n",
        "from sklearn.metrics import mean_squared_error\n",
        "\n",
        "X, y = load_diabetes(return_X_y=True)\n",
        "X_train, X_test, y_train, y_test = train_test_split(X, y, test_size=0.3, random_state=42)\n",
        "\n",
        "bag_reg = BaggingRegressor(estimator=DecisionTreeRegressor(), n_estimators=10, random_state=42)\n",
        "bag_reg.fit(X_train, y_train)\n",
        "\n",
        "y_pred = bag_reg.predict(X_test)\n",
        "print(\"Bagging Regressor MSE:\", mean_squared_error(y_test, y_pred))"
      ],
      "metadata": {
        "colab": {
          "base_uri": "https://localhost:8080/"
        },
        "id": "0xdr9QsAL5CO",
        "outputId": "cc9be1e5-d1dd-4a15-81d0-c302cd144118"
      },
      "execution_count": 4,
      "outputs": [
        {
          "output_type": "stream",
          "name": "stdout",
          "text": [
            "Bagging Regressor MSE: 3237.526541353384\n"
          ]
        }
      ]
    },
    {
      "cell_type": "code",
      "source": [
        "# 23. Train a Random Forest Classifier on the Breast Cancer dataset and print feature importance scores\n",
        "from sklearn.datasets import load_breast_cancer\n",
        "from sklearn.ensemble import RandomForestClassifier\n",
        "\n",
        "X, y = load_breast_cancer(return_X_y=True)\n",
        "clf = RandomForestClassifier(random_state=42)\n",
        "clf.fit(X, y)\n",
        "\n",
        "importances = clf.feature_importances_\n",
        "print(\"Feature Importances:\", importances)"
      ],
      "metadata": {
        "colab": {
          "base_uri": "https://localhost:8080/"
        },
        "id": "uqe8E6kbMaat",
        "outputId": "7ce483da-c534-431e-f862-ac1088b1d66d"
      },
      "execution_count": 5,
      "outputs": [
        {
          "output_type": "stream",
          "name": "stdout",
          "text": [
            "Feature Importances: [0.03484323 0.01522515 0.06799034 0.06046164 0.00795845 0.01159704\n",
            " 0.06691736 0.10704566 0.00342279 0.00261508 0.0142637  0.00374427\n",
            " 0.01008506 0.02955283 0.00472157 0.00561183 0.00581969 0.00375975\n",
            " 0.00354597 0.00594233 0.08284828 0.01748526 0.0808497  0.13935694\n",
            " 0.01223202 0.01986386 0.03733871 0.13222509 0.00817908 0.00449731]\n"
          ]
        }
      ]
    },
    {
      "cell_type": "code",
      "source": [
        "# 24. Train a Random Forest Regressor and compare its performance with a single Decision Tree\n",
        "from sklearn.datasets import fetch_california_housing\n",
        "from sklearn.tree import DecisionTreeRegressor\n",
        "from sklearn.ensemble import RandomForestRegressor\n",
        "from sklearn.model_selection import train_test_split\n",
        "from sklearn.metrics import mean_squared_error\n",
        "\n",
        "X, y = fetch_california_housing(return_X_y=True)\n",
        "X_train, X_test, y_train, y_test = train_test_split(X, y, test_size=0.3, random_state=42)\n",
        "\n",
        "tree = DecisionTreeRegressor(random_state=42)\n",
        "tree.fit(X_train, y_train)\n",
        "tree_pred = tree.predict(X_test)\n",
        "\n",
        "forest = RandomForestRegressor(random_state=42)\n",
        "forest.fit(X_train, y_train)\n",
        "forest_pred = forest.predict(X_test)\n",
        "\n",
        "print(\"Decision Tree MSE:\", mean_squared_error(y_test, tree_pred))\n",
        "print(\"Random Forest MSE:\", mean_squared_error(y_test, forest_pred))\n"
      ],
      "metadata": {
        "colab": {
          "base_uri": "https://localhost:8080/"
        },
        "id": "vr-q-LhlMmee",
        "outputId": "8bf51c98-8100-4501-e143-1176054100b8"
      },
      "execution_count": 6,
      "outputs": [
        {
          "output_type": "stream",
          "name": "stdout",
          "text": [
            "Decision Tree MSE: 0.5280096503174904\n",
            "Random Forest MSE: 0.25650512920799395\n"
          ]
        }
      ]
    },
    {
      "cell_type": "code",
      "source": [
        "# 26. Train a Bagging Classifier using SVM as a base estimator and print accuracy\n",
        "from sklearn.svm import SVC\n",
        "from sklearn.ensemble import BaggingClassifier\n",
        "from sklearn.model_selection import train_test_split\n",
        "from sklearn.metrics import accuracy_score\n",
        "\n",
        "X, y = load_iris(return_X_y=True)\n",
        "X_train, X_test, y_train, y_test = train_test_split(X, y, test_size=0.3, random_state=42)\n",
        "\n",
        "bag_svm = BaggingClassifier(estimator=SVC(), n_estimators=10, random_state=42)\n",
        "bag_svm.fit(X_train, y_train)\n",
        "y_pred = bag_svm.predict(X_test)\n",
        "print(\"Bagging SVM Accuracy:\", accuracy_score(y_test, y_pred))\n"
      ],
      "metadata": {
        "colab": {
          "base_uri": "https://localhost:8080/"
        },
        "id": "aYwU4NNpM033",
        "outputId": "e694bb67-fd49-493f-8d35-3f39cd67c3aa"
      },
      "execution_count": 9,
      "outputs": [
        {
          "output_type": "stream",
          "name": "stdout",
          "text": [
            "Bagging SVM Accuracy: 1.0\n"
          ]
        }
      ]
    },
    {
      "cell_type": "code",
      "source": [
        "# 27. Train a Random Forest Classifier with different numbers of trees and compare accuracy\n",
        "for n in [10, 50, 100, 200]:\n",
        "    clf = RandomForestClassifier(n_estimators=n, random_state=42)\n",
        "    clf.fit(X_train, y_train)\n",
        "    y_pred = clf.predict(X_test)\n",
        "    print(f\"{n} trees - Accuracy:\", accuracy_score(y_test, y_pred))\n"
      ],
      "metadata": {
        "colab": {
          "base_uri": "https://localhost:8080/"
        },
        "id": "-uI8S3sENHcN",
        "outputId": "6f31d6b0-ba81-47d3-dacb-48f4dab63d45"
      },
      "execution_count": 10,
      "outputs": [
        {
          "output_type": "stream",
          "name": "stdout",
          "text": [
            "10 trees - Accuracy: 1.0\n",
            "50 trees - Accuracy: 1.0\n",
            "100 trees - Accuracy: 1.0\n",
            "200 trees - Accuracy: 1.0\n"
          ]
        }
      ]
    },
    {
      "cell_type": "code",
      "source": [
        "# 29. Train a Random Forest Regressor and analyze feature importance scores\n",
        "forest = RandomForestRegressor(random_state=42)\n",
        "forest.fit(X_train, y_train)\n",
        "importances = forest.feature_importances_\n",
        "print(\"Feature Importances:\", importances)\n"
      ],
      "metadata": {
        "colab": {
          "base_uri": "https://localhost:8080/"
        },
        "id": "YP1HtgS0NR9J",
        "outputId": "9f2f6f3a-daab-459d-823c-414c3cd193d3"
      },
      "execution_count": 13,
      "outputs": [
        {
          "output_type": "stream",
          "name": "stdout",
          "text": [
            "Feature Importances: [0.00160391 0.01814557 0.00403745 0.00461822 0.00292849 0.00139949\n",
            " 0.00291495 0.38764144 0.00203234 0.00335471 0.00937918 0.00250718\n",
            " 0.00198928 0.01552448 0.00400675 0.0011121  0.00406844 0.00199449\n",
            " 0.00351347 0.00562097 0.04190978 0.02969984 0.1214353  0.05861028\n",
            " 0.00878417 0.00187303 0.0216041  0.22910097 0.00491472 0.00367492]\n"
          ]
        }
      ]
    },
    {
      "cell_type": "code",
      "source": [
        "# 30. Train an ensemble model using both Bagging and Random Forest and compare accuracy\n",
        "bag = BaggingClassifier(estimator=DecisionTreeClassifier(), n_estimators=10, random_state=42)\n",
        "bag.fit(X_train, y_train)\n",
        "bag_acc = accuracy_score(y_test, bag.predict(X_test))\n",
        "\n",
        "rf = RandomForestClassifier(n_estimators=100, random_state=42)\n",
        "rf.fit(X_train, y_train)\n",
        "rf_acc = accuracy_score(y_test, rf.predict(X_test))\n",
        "\n",
        "print(\"Bagging Accuracy:\", bag_acc)\n",
        "print(\"Random Forest Accuracy:\", rf_acc)\n"
      ],
      "metadata": {
        "colab": {
          "base_uri": "https://localhost:8080/"
        },
        "id": "bV4bNDk4NaXQ",
        "outputId": "941cde36-b383-4839-e7fa-01ead95a0aec"
      },
      "execution_count": 15,
      "outputs": [
        {
          "output_type": "stream",
          "name": "stdout",
          "text": [
            "Bagging Accuracy: 0.9473684210526315\n",
            "Random Forest Accuracy: 0.9707602339181286\n"
          ]
        }
      ]
    },
    {
      "cell_type": "code",
      "source": [
        "# 31. Train a Random Forest Classifier and tune hyperparameters using GridSearchCV\n",
        "from sklearn.model_selection import GridSearchCV\n",
        "\n",
        "param_grid = {\n",
        "    'n_estimators': [50, 100],\n",
        "    'max_depth': [None, 10, 20]\n",
        "}\n",
        "clf = RandomForestClassifier(random_state=42)\n",
        "grid = GridSearchCV(clf, param_grid, cv=3)\n",
        "grid.fit(X_train, y_train)\n",
        "print(\"Best parameters:\", grid.best_params_)\n",
        "print(\"Best score:\", grid.best_score_)\n"
      ],
      "metadata": {
        "colab": {
          "base_uri": "https://localhost:8080/"
        },
        "id": "BdcdBVeYNf2B",
        "outputId": "36cfae8e-c444-4ad7-cb38-28119d43294a"
      },
      "execution_count": 16,
      "outputs": [
        {
          "output_type": "stream",
          "name": "stdout",
          "text": [
            "Best parameters: {'max_depth': None, 'n_estimators': 50}\n",
            "Best score: 0.9622920938710413\n"
          ]
        }
      ]
    },
    {
      "cell_type": "code",
      "source": [
        "# 32. Train a Bagging Regressor with different numbers of base estimators and compare performance\n",
        "for n in [5, 10, 20]:\n",
        "    bag = BaggingRegressor(n_estimators=n, random_state=42)\n",
        "    bag.fit(X_train, y_train)\n",
        "    y_pred = bag.predict(X_test)\n",
        "    print(f\"{n} estimators - MSE:\", mean_squared_error(y_test, y_pred))\n"
      ],
      "metadata": {
        "colab": {
          "base_uri": "https://localhost:8080/"
        },
        "id": "FIhA9DrVTtM2",
        "outputId": "e6dfc225-a3d7-48aa-a377-0663e8681abc"
      },
      "execution_count": 17,
      "outputs": [
        {
          "output_type": "stream",
          "name": "stdout",
          "text": [
            "5 estimators - MSE: 0.04421052631578948\n",
            "10 estimators - MSE: 0.03923976608187135\n",
            "20 estimators - MSE: 0.03698830409356725\n"
          ]
        }
      ]
    },
    {
      "cell_type": "code",
      "source": [
        "# 33. Train a Random Forest Classifier and analyze misclassified samples\n",
        "clf = RandomForestClassifier(random_state=42)\n",
        "clf.fit(X_train, y_train)\n",
        "y_pred = clf.predict(X_test)\n",
        "misclassified = X_test[y_pred != y_test]\n",
        "print(\"Number of misclassified samples:\", len(misclassified))\n"
      ],
      "metadata": {
        "colab": {
          "base_uri": "https://localhost:8080/"
        },
        "id": "YS9tv79qT7Gv",
        "outputId": "13695b92-a40d-4816-e36f-94bb4690b78b"
      },
      "execution_count": 18,
      "outputs": [
        {
          "output_type": "stream",
          "name": "stdout",
          "text": [
            "Number of misclassified samples: 5\n"
          ]
        }
      ]
    },
    {
      "cell_type": "code",
      "source": [
        "# 34. Train a Bagging Classifier and compare its performance with a single Decision Tree Classifier\n",
        "tree = DecisionTreeClassifier(random_state=42)\n",
        "tree.fit(X_train, y_train)\n",
        "tree_acc = accuracy_score(y_test, tree.predict(X_test))\n",
        "\n",
        "bag = BaggingClassifier(estimator=DecisionTreeClassifier(), random_state=42)\n",
        "bag.fit(X_train, y_train)\n",
        "bag_acc = accuracy_score(y_test, bag.predict(X_test))\n",
        "\n",
        "print(\"Decision Tree Accuracy:\", tree_acc)\n",
        "print(\"Bagging Accuracy:\", bag_acc)\n"
      ],
      "metadata": {
        "colab": {
          "base_uri": "https://localhost:8080/"
        },
        "id": "VAoWnjaBUAzb",
        "outputId": "f65d39b7-c80d-4c0d-f1d0-125fd5ea526c"
      },
      "execution_count": 20,
      "outputs": [
        {
          "output_type": "stream",
          "name": "stdout",
          "text": [
            "Decision Tree Accuracy: 0.9415204678362573\n",
            "Bagging Accuracy: 0.9473684210526315\n"
          ]
        }
      ]
    },
    {
      "cell_type": "code",
      "source": [
        "# 35. Train a Random Forest Classifier and visualize the confusion matrix\n",
        "from sklearn.metrics import ConfusionMatrixDisplay\n",
        "\n",
        "clf = RandomForestClassifier(random_state=42)\n",
        "clf.fit(X_train, y_train)\n",
        "ConfusionMatrixDisplay.from_estimator(clf, X_test, y_test)\n"
      ],
      "metadata": {
        "colab": {
          "base_uri": "https://localhost:8080/",
          "height": 466
        },
        "id": "ptvcNR7UUF3_",
        "outputId": "a73f2d7f-390e-435e-b293-87ec47722116"
      },
      "execution_count": 21,
      "outputs": [
        {
          "output_type": "execute_result",
          "data": {
            "text/plain": [
              "<sklearn.metrics._plot.confusion_matrix.ConfusionMatrixDisplay at 0x7dd439ac2390>"
            ]
          },
          "metadata": {},
          "execution_count": 21
        },
        {
          "output_type": "display_data",
          "data": {
            "text/plain": [
              "<Figure size 640x480 with 2 Axes>"
            ],
            "image/png": "[encoded data removed]"
          },
          "metadata": {}
        }
      ]
    },
    {
      "cell_type": "code",
      "source": [
        "# 37. Train a Random Forest Classifier and print the top 5 most important features\n",
        "clf = RandomForestClassifier(random_state=42)\n",
        "clf.fit(X_train, y_train)\n",
        "importances = clf.feature_importances_\n",
        "top5_idx = importances.argsort()[-5:][::-1]\n",
        "print(\"Top 5 Feature Importances:\", importances[top5_idx])\n"
      ],
      "metadata": {
        "colab": {
          "base_uri": "https://localhost:8080/"
        },
        "id": "TpgkUc-DUQ1a",
        "outputId": "94685937-e53e-4b4c-bdb5-d5accce5d489"
      },
      "execution_count": 23,
      "outputs": [
        {
          "output_type": "stream",
          "name": "stdout",
          "text": [
            "Top 5 Feature Importances: [0.14193444 0.12713638 0.11821686 0.08055702 0.07797475]\n"
          ]
        }
      ]
    },
    {
      "cell_type": "code",
      "source": [
        "# 38. Train a Bagging Classifier and evaluate performance using Precision, Recall, and F1-score\n",
        "from sklearn.metrics import precision_score, recall_score, f1_score\n",
        "\n",
        "clf = BaggingClassifier(random_state=42)\n",
        "clf.fit(X_train, y_train)\n",
        "y_pred = clf.predict(X_test)\n",
        "print(\"Precision:\", precision_score(y_test, y_pred, average='macro'))\n",
        "print(\"Recall:\", recall_score(y_test, y_pred, average='macro'))\n",
        "print(\"F1 Score:\", f1_score(y_test, y_pred, average='macro'))\n"
      ],
      "metadata": {
        "colab": {
          "base_uri": "https://localhost:8080/"
        },
        "id": "7jjWRW1CUWVs",
        "outputId": "90a71801-4579-4fef-e30b-9d939be51511"
      },
      "execution_count": 24,
      "outputs": [
        {
          "output_type": "stream",
          "name": "stdout",
          "text": [
            "Precision: 0.9422459112149533\n",
            "Recall: 0.9451058201058201\n",
            "F1 Score: 0.9436366965757188\n"
          ]
        }
      ]
    },
    {
      "cell_type": "code",
      "source": [
        "# 39. Train a Random Forest Classifier and analyze the effect of max_depth on accuracy\n",
        "for depth in [2, 5, 10, None]:\n",
        "    clf = RandomForestClassifier(max_depth=depth, random_state=42)\n",
        "    clf.fit(X_train, y_train)\n",
        "    acc = accuracy_score(y_test, clf.predict(X_test))\n",
        "    print(f\"max_depth={depth} - Accuracy:\", acc)\n"
      ],
      "metadata": {
        "colab": {
          "base_uri": "https://localhost:8080/"
        },
        "id": "azU078E1UblI",
        "outputId": "5c98000d-474d-488a-e9da-50ee458802e5"
      },
      "execution_count": 25,
      "outputs": [
        {
          "output_type": "stream",
          "name": "stdout",
          "text": [
            "max_depth=2 - Accuracy: 0.9532163742690059\n",
            "max_depth=5 - Accuracy: 0.9649122807017544\n",
            "max_depth=10 - Accuracy: 0.9707602339181286\n",
            "max_depth=None - Accuracy: 0.9707602339181286\n"
          ]
        }
      ]
    },
    {
      "cell_type": "code",
      "source": [
        "# 40. Train a Bagging Regressor using different base estimators (DecisionTree and KNeighbors) and compare performance\n",
        "from sklearn.neighbors import KNeighborsRegressor\n",
        "\n",
        "for base in [DecisionTreeRegressor(), KNeighborsRegressor()]:\n",
        "    bag = BaggingRegressor(estimator=base, random_state=42)\n",
        "    bag.fit(X_train, y_train)\n",
        "    y_pred = bag.predict(X_test)\n",
        "    print(f\"{base.__class__.__name__} - MSE:\", mean_squared_error(y_test, y_pred))\n"
      ],
      "metadata": {
        "colab": {
          "base_uri": "https://localhost:8080/"
        },
        "id": "qZTQUyw2UgP5",
        "outputId": "d32ea27b-5726-4619-c2a2-3abbabee9f4a"
      },
      "execution_count": 27,
      "outputs": [
        {
          "output_type": "stream",
          "name": "stdout",
          "text": [
            "DecisionTreeRegressor - MSE: 0.03923976608187135\n",
            "KNeighborsRegressor - MSE: 0.028180116959064336\n"
          ]
        }
      ]
    },
    {
      "cell_type": "code",
      "source": [
        "# 41. Train a Random Forest Classifier and evaluate its performance using ROC-AUC Score\n",
        "from sklearn.metrics import roc_auc_score\n",
        "\n",
        "clf = RandomForestClassifier(random_state=42)\n",
        "clf.fit(X_train, y_train)\n",
        "y_prob = clf.predict_proba(X_test)[:, 1]\n",
        "print(\"ROC-AUC Score:\", roc_auc_score(y_test, y_prob))\n"
      ],
      "metadata": {
        "colab": {
          "base_uri": "https://localhost:8080/"
        },
        "id": "pCFjGAqTVYMn",
        "outputId": "f67d1193-f88e-4693-cb03-3a5531037683"
      },
      "execution_count": 28,
      "outputs": [
        {
          "output_type": "stream",
          "name": "stdout",
          "text": [
            "ROC-AUC Score: 0.9968400940623163\n"
          ]
        }
      ]
    },
    {
      "cell_type": "code",
      "source": [
        "# 42. Train a Bagging Classifier and evaluate its performance using cross-validation\n",
        "from sklearn.model_selection import cross_val_score\n",
        "\n",
        "clf = BaggingClassifier(random_state=42)\n",
        "scores = cross_val_score(clf, X, y, cv=5)\n",
        "print(\"Cross-validation scores:\", scores)\n",
        "print(\"Mean score:\", scores.mean())\n"
      ],
      "metadata": {
        "colab": {
          "base_uri": "https://localhost:8080/"
        },
        "id": "IWHsJHUsVf5_",
        "outputId": "c93183fd-a61f-430b-c56f-2df3467933ff"
      },
      "execution_count": 29,
      "outputs": [
        {
          "output_type": "stream",
          "name": "stdout",
          "text": [
            "Cross-validation scores: [0.92982456 0.93859649 0.97368421 0.93859649 0.97345133]\n",
            "Mean score: 0.9508306163639186\n"
          ]
        }
      ]
    },
    {
      "cell_type": "code",
      "source": [
        "# 43. Train a Random Forest Classifier and plot the Precision-Recall curve\n",
        "from sklearn.metrics import precision_recall_curve, PrecisionRecallDisplay\n",
        "\n",
        "clf = RandomForestClassifier(random_state=42)\n",
        "clf.fit(X_train, y_train)\n",
        "y_prob = clf.predict_proba(X_test)[:, 1]\n",
        "precision, recall, _ = precision_recall_curve(y_test, y_prob)\n",
        "disp = PrecisionRecallDisplay(precision=precision, recall=recall)\n",
        "disp.plot()\n"
      ],
      "metadata": {
        "colab": {
          "base_uri": "https://localhost:8080/",
          "height": 468
        },
        "id": "J-CvsDzKVm4s",
        "outputId": "8d0aba60-3d32-40a7-ef8b-2af2e1611561"
      },
      "execution_count": 30,
      "outputs": [
        {
          "output_type": "execute_result",
          "data": {
            "text/plain": [
              "<sklearn.metrics._plot.precision_recall_curve.PrecisionRecallDisplay at 0x7dd42db53bd0>"
            ]
          },
          "metadata": {},
          "execution_count": 30
        },
        {
          "output_type": "display_data",
          "data": {
            "text/plain": [
              "<Figure size 640x480 with 1 Axes>"
            ],
            "image/png": "[encoded data removed]"
          },
          "metadata": {}
        }
      ]
    },
    {
      "cell_type": "code",
      "source": [
        "# 45. Train a Bagging Regressor with different levels of bootstrap samples and compare performance\n",
        "for bootstrap in [True, False]:\n",
        "    bag = BaggingRegressor(bootstrap=bootstrap, random_state=42)\n",
        "    bag.fit(X_train, y_train)\n",
        "    y_pred = bag.predict(X_test)\n",
        "    print(f\"Bootstrap={bootstrap} - MSE:\", mean_squared_error(y_test, y_pred))\n"
      ],
      "metadata": {
        "colab": {
          "base_uri": "https://localhost:8080/"
        },
        "id": "qb1VVnKsVwR9",
        "outputId": "e371ae96-cf6f-455b-f36d-de6af58bbc34"
      },
      "execution_count": 32,
      "outputs": [
        {
          "output_type": "stream",
          "name": "stdout",
          "text": [
            "Bootstrap=True - MSE: 0.03923976608187135\n",
            "Bootstrap=False - MSE: 0.06245614035087719\n"
          ]
        }
      ]
    },
    {
      "cell_type": "code",
      "source": [],
      "metadata": {
        "id": "kHHjz5iCV7-5"
      },
      "execution_count": null,
      "outputs": []
    }
  ]
}